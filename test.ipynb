{
 "cells": [
  {
   "cell_type": "code",
   "execution_count": 1,
   "metadata": {},
   "outputs": [],
   "source": [
    "import pandas as pd\n",
    "import numpy as np\n",
    "import os"
   ]
  },
  {
   "cell_type": "code",
   "execution_count": 2,
   "metadata": {},
   "outputs": [
    {
     "name": "stdout",
     "output_type": "stream",
     "text": [
      "./data/train/\n",
      "./data/val/\n",
      "./data/test/\n"
     ]
    }
   ],
   "source": [
    "path = './data/'\n",
    "\n",
    "import glob\n",
    "\n",
    "folders = [f for f in glob.glob(path + \"**/\", recursive=False)]\n",
    "\n",
    "for f in folders:\n",
    "    print(f)"
   ]
  },
  {
   "cell_type": "code",
   "execution_count": 4,
   "metadata": {},
   "outputs": [
    {
     "name": "stderr",
     "output_type": "stream",
     "text": [
      "/home/liqi/anaconda3/lib/python3.7/site-packages/ipykernel_launcher.py:4: ParserWarning: Falling back to the 'python' engine because the 'c' engine does not support regex separators (separators > 1 char and different from '\\s+' are interpreted as regex); you can avoid this warning by specifying engine='python'.\n",
      "  after removing the cwd from sys.path.\n"
     ]
    }
   ],
   "source": [
    "labels = pd.read_csv(\"final_results.txt\", delimiter='\\t', names = ['label', 'id', 'name', 'confidence'])\n",
    "labels = labels.drop_duplicates(subset = 'name', keep='first')\n",
    "\n",
    "match = pd.read_csv('labellist.txt', delimiter='    ', names = ['catagory', 'name'])\n",
    "\n",
    "df = pd.merge(match, labels, on=['name'])\n",
    "df = df.drop(['label', 'confidence'], axis = 1)"
   ]
  },
  {
   "cell_type": "code",
   "execution_count": 6,
   "metadata": {},
   "outputs": [],
   "source": [
    "path = './imagenet-a/'\n",
    "\n",
    "for i in range(100):\n",
    "    os.rename(path + df['catagory'][i], path + str(df['id'][i]))"
   ]
  },
  {
   "cell_type": "code",
   "execution_count": 7,
   "metadata": {},
   "outputs": [],
   "source": [
    "# for i in range(100):\n",
    "for i in range(100):\n",
    "    for idx, f in enumerate(glob.glob(path + str(i) + \"/**\", recursive=False)):\n",
    "        os.rename(f, path + str(i) + '/' + str(i) + '_' + str(idx + 1100) + '.jpg')"
   ]
  }
 ],
 "metadata": {
  "kernelspec": {
   "display_name": "Python 3",
   "language": "python",
   "name": "python3"
  },
  "language_info": {
   "codemirror_mode": {
    "name": "ipython",
    "version": 3
   },
   "file_extension": ".py",
   "mimetype": "text/x-python",
   "name": "python",
   "nbconvert_exporter": "python",
   "pygments_lexer": "ipython3",
   "version": "3.7.4"
  }
 },
 "nbformat": 4,
 "nbformat_minor": 4
}
