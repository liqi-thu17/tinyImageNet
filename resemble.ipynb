{
 "cells": [
  {
   "cell_type": "code",
   "execution_count": 6,
   "metadata": {},
   "outputs": [],
   "source": [
    "import xgboost as xgb\n",
    "import pandas as pd"
   ]
  },
  {
   "cell_type": "code",
   "execution_count": 14,
   "metadata": {},
   "outputs": [],
   "source": [
    "resnet = pd.read_csv('output/cosineLR/output.csv')\n",
    "efficientNet = pd.read_csv('output/efficientNet_mixup/output.csv')\n",
    "resnext = pd.read_csv('output/resnext_mixup/output.csv')\n",
    "# se_resnext = pd.read_csv('output/se_resnext101/output.csv')"
   ]
  },
  {
   "cell_type": "code",
   "execution_count": null,
   "metadata": {},
   "outputs": [],
   "source": [
    "resnet_test = pd.read_csv('output/cosineLR/test_output.csv')\n",
    "efficientNet_test = pd.read_csv('output/efficientNet_mixup/test_output.csv')\n",
    "resnext_test = pd.read_csv('output/resnext_mixup/test_output.csv')\n",
    "se_resnext_test = pd.read_csv('output/se_resnext101/test_output.csv')"
   ]
  },
  {
   "cell_type": "code",
   "execution_count": null,
   "metadata": {},
   "outputs": [],
   "source": [
    "train_X = \n",
    "train_Y = "
   ]
  },
  {
   "cell_type": "code",
   "execution_count": 5,
   "metadata": {},
   "outputs": [],
   "source": [
    "xgbmodel = xgb.XGBClassifier(n_estimators=1000, learning_rate=0.05)"
   ]
  },
  {
   "cell_type": "code",
   "execution_count": null,
   "metadata": {},
   "outputs": [],
   "source": [
    "xgbmodel.fit()"
   ]
  }
 ],
 "metadata": {
  "kernelspec": {
   "display_name": "Python 3",
   "language": "python",
   "name": "python3"
  },
  "language_info": {
   "codemirror_mode": {
    "name": "ipython",
    "version": 3
   },
   "file_extension": ".py",
   "mimetype": "text/x-python",
   "name": "python",
   "nbconvert_exporter": "python",
   "pygments_lexer": "ipython3",
   "version": "3.7.4"
  }
 },
 "nbformat": 4,
 "nbformat_minor": 2
}
