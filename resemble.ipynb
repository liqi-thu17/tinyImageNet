{
 "cells": [
  {
   "cell_type": "code",
   "execution_count": null,
   "metadata": {},
   "outputs": [],
   "source": [
    "import xgboost as xgb\n",
    "import pandas as pd"
   ]
  },
  {
   "cell_type": "code",
   "execution_count": null,
   "metadata": {},
   "outputs": [],
   "source": [
    "resnet = pd.read_csv('output/cosineLR/output.csv')\n",
    "efficientNet = pd.read_csv('output/efficientNet_mixup/output.csv')\n",
    "resnext = pd.read_csv('output/resnext_mixup/output.csv')\n",
    "se_resnext = pd.read_csv('output/se_resnext101/output.csv')\n",
    "\n",
    "train_Y = resnet['101']\n",
    "\n",
    "resnet.drop(columns=['101'], inplace=True)\n",
    "resnet.rename(columns=dict(zip(resnet.columns[1:], [(str(i+1)) for i in range(0, 100)])), inplace=True)\n",
    "efficientNet.drop(columns=['101'], inplace=True)\n",
    "efficientNet.rename(columns=dict(zip(efficientNet.columns[1:], [(str(i+1)) for i in range(100, 200)])), inplace=True)\n",
    "resnext.drop(columns=['101'], inplace=True)\n",
    "resnext.rename(columns=dict(zip(resnext.columns[1:], [(str(i+1)) for i in range(200, 300)])), inplace=True)\n",
    "se_resnext.drop(columns=['101'], inplace=True)\n",
    "se_resnext.rename(columns=dict(zip(se_resnext.columns[1:], [(str(i+1)) for i in range(300, 400)])), inplace=True)\n",
    "\n",
    "train_X = pd.merge(resnet, efficientNet, on='0')\n",
    "train_X = pd.merge(train_X, resnext, on='0')\n",
    "train_X = pd.merge(train_X, se_resnext, on='0')"
   ]
  },
  {
   "cell_type": "code",
   "execution_count": null,
   "metadata": {},
   "outputs": [],
   "source": [
    "resnet_test = pd.read_csv('output/cosineLR/test_output.csv')\n",
    "resnet_test.rename(columns=dict(zip(resnet_test.columns[1:], [(str(i+1)) for i in range(0, 100)])), inplace=True)\n",
    "efficientNet_test = pd.read_csv('output/efficientNet_mixup/test_output.csv')\n",
    "efficientNet_test.rename(columns=dict(zip(efficientNet_test.columns[1:], [(str(i+1)) for i in range(100, 200)])), inplace=True)\n",
    "resnext_test = pd.read_csv('output/resnext_mixup/test_output.csv')\n",
    "resnext_test.rename(columns=dict(zip(resnext_test.columns[1:], [(str(i+1)) for i in range(200, 300)])), inplace=True)\n",
    "se_resnext_test = pd.read_csv('output/se_resnext101/test_output.csv')\n",
    "se_resnext_test.rename(columns=dict(zip(se_resnext_test.columns[1:], [(str(i+1)) for i in range(300, 400)])), inplace=True)\n",
    "\n",
    "test_X = pd.merge(resnet_test, efficientNet_test, on='0')\n",
    "test_X = pd.merge(test_X, resnext_test, on='0')\n",
    "test_X = pd.merge(test_X, se_resnext_test, on='0')"
   ]
  },
  {
   "cell_type": "code",
   "execution_count": null,
   "metadata": {},
   "outputs": [],
   "source": [
    "xgbmodel = xgb.XGBClassifier(n_estimators=1000, learning_rate=0.05)"
   ]
  },
  {
   "cell_type": "code",
   "execution_count": null,
   "metadata": {},
   "outputs": [],
   "source": [
    "xgbmodel.fit(train_X.drop(columns=['0']), train_Y, verbose=True)"
   ]
  },
  {
   "cell_type": "code",
   "execution_count": null,
   "metadata": {},
   "outputs": [],
   "source": [
    "test_Y = xgbmodel.predict(test_X)"
   ]
  },
  {
   "cell_type": "code",
   "execution_count": null,
   "metadata": {},
   "outputs": [],
   "source": [
    "test_Y"
   ]
  }
 ],
 "metadata": {
  "kernelspec": {
   "display_name": "Python 3",
   "language": "python",
   "name": "python3"
  },
  "language_info": {
   "codemirror_mode": {
    "name": "ipython",
    "version": 3
   },
   "file_extension": ".py",
   "mimetype": "text/x-python",
   "name": "python",
   "nbconvert_exporter": "python",
   "pygments_lexer": "ipython3",
   "version": "3.7.4"
  }
 },
 "nbformat": 4,
 "nbformat_minor": 2
}
